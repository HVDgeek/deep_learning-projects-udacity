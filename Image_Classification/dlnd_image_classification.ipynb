{
 "cells": [
  {
   "cell_type": "markdown",
   "metadata": {
    "collapsed": true
   },
   "source": [
    "# Image Classification\n",
    "In this project, you'll classify images from the [CIFAR-10 dataset](https://www.cs.toronto.edu/~kriz/cifar.html).  The dataset consists of airplanes, dogs, cats, and other objects. You'll preprocess the images, then train a convolutional neural network on all the samples. The images need to be normalized and the labels need to be one-hot encoded.  You'll get to apply what you learned and build a convolutional, max pooling, dropout, and fully connected layers.  At the end, you'll get to see your neural network's predictions on the sample images.\n",
    "## Get the Data\n",
    "Run the following cell to download the [CIFAR-10 dataset for python](https://www.cs.toronto.edu/~kriz/cifar-10-python.tar.gz)."
   ]
  },
  {
   "cell_type": "code",
   "execution_count": 1,
   "metadata": {},
   "outputs": [
    {
     "name": "stdout",
     "output_type": "stream",
     "text": [
      "Requirement already satisfied: tqdm in /home/hvd/anaconda3/lib/python3.6/site-packages\r\n"
     ]
    }
   ],
   "source": [
    "!pip install tqdm"
   ]
  },
  {
   "cell_type": "code",
   "execution_count": 2,
   "metadata": {},
   "outputs": [
    {
     "name": "stderr",
     "output_type": "stream",
     "text": [
      "/home/hvd/anaconda3/lib/python3.6/site-packages/h5py/__init__.py:36: FutureWarning: Conversion of the second argument of issubdtype from `float` to `np.floating` is deprecated. In future, it will be treated as `np.float64 == np.dtype(float).type`.\n",
      "  from ._conv import register_converters as _register_converters\n"
     ]
    },
    {
     "name": "stdout",
     "output_type": "stream",
     "text": [
      "All files found!\n"
     ]
    }
   ],
   "source": [
    "\"\"\"\n",
    "DON'T MODIFY ANYTHING IN THIS CELL THAT IS BELOW THIS LINE\n",
    "\"\"\"\n",
    "from urllib.request import urlretrieve\n",
    "from os.path import isfile, isdir\n",
    "from tqdm import tqdm\n",
    "import problem_unittests as tests\n",
    "import tarfile\n",
    "\n",
    "cifar10_dataset_folder_path = 'cifar-10-batches-py'\n",
    "\n",
    "# Use Floyd's cifar-10 dataset if present\n",
    "floyd_cifar10_location = '/cifar/cifar-10-python.tar.gz'\n",
    "if isfile(floyd_cifar10_location):\n",
    "    tar_gz_path = floyd_cifar10_location\n",
    "else:\n",
    "    tar_gz_path = 'cifar-10-python.tar.gz'\n",
    "\n",
    "class DLProgress(tqdm):\n",
    "    last_block = 0\n",
    "\n",
    "    def hook(self, block_num=1, block_size=1, total_size=None):\n",
    "        self.total = total_size\n",
    "        self.update((block_num - self.last_block) * block_size)\n",
    "        self.last_block = block_num\n",
    "\n",
    "if not isfile(tar_gz_path):\n",
    "    with DLProgress(unit='B', unit_scale=True, miniters=1, desc='CIFAR-10 Dataset') as pbar:\n",
    "        urlretrieve(\n",
    "            'https://www.cs.toronto.edu/~kriz/cifar-10-python.tar.gz',\n",
    "            tar_gz_path,\n",
    "            pbar.hook)\n",
    "\n",
    "if not isdir(cifar10_dataset_folder_path):\n",
    "    with tarfile.open(tar_gz_path) as tar:\n",
    "        tar.extractall()\n",
    "        tar.close()\n",
    "\n",
    "\n",
    "tests.test_folder_path(cifar10_dataset_folder_path)"
   ]
  },
  {
   "cell_type": "markdown",
   "metadata": {},
   "source": [
    "## Explore the Data\n",
    "The dataset is broken into batches to prevent your machine from running out of memory.  The CIFAR-10 dataset consists of 5 batches, named `data_batch_1`, `data_batch_2`, etc.. Each batch contains the labels and images that are one of the following:\n",
    "* airplane\n",
    "* automobile\n",
    "* bird\n",
    "* cat\n",
    "* deer\n",
    "* dog\n",
    "* frog\n",
    "* horse\n",
    "* ship\n",
    "* truck\n",
    "\n",
    "Understanding a dataset is part of making predictions on the data.  Play around with the code cell below by changing the `batch_id` and `sample_id`. The `batch_id` is the id for a batch (1-5). The `sample_id` is the id for a image and label pair in the batch.\n",
    "\n",
    "Ask yourself \"What are all possible labels?\", \"What is the range of values for the image data?\", \"Are the labels in order or random?\".  Answers to questions like these will help you preprocess the data and end up with better predictions."
   ]
  },
  {
   "cell_type": "code",
   "execution_count": 3,
   "metadata": {},
   "outputs": [
    {
     "name": "stdout",
     "output_type": "stream",
     "text": [
      "\n",
      "Stats of batch 1:\n",
      "Samples: 10000\n",
      "Label Counts: {0: 1005, 1: 974, 2: 1032, 3: 1016, 4: 999, 5: 937, 6: 1030, 7: 1001, 8: 1025, 9: 981}\n",
      "First 20 Labels: [6, 9, 9, 4, 1, 1, 2, 7, 8, 3, 4, 7, 7, 2, 9, 9, 9, 3, 2, 6]\n",
      "\n",
      "Example of Image 5:\n",
      "Image - Min Value: 0 Max Value: 252\n",
      "Image - Shape: (32, 32, 3)\n",
      "Label - Label Id: 1 Name: automobile\n"
     ]
    },
    {
     "data": {
      "image/png": "[encoded data removed]",
      "text/plain": [
       "<matplotlib.figure.Figure at 0x7fef28b43048>"
      ]
     },
     "metadata": {
      "image/png": {
       "height": 250,
       "width": 253
      }
     },
     "output_type": "display_data"
    }
   ],
   "source": [
    "%matplotlib inline\n",
    "%config InlineBackend.figure_format = 'retina'\n",
    "\n",
    "import helper\n",
    "import numpy as np\n",
    "\n",
    "# Explore the dataset\n",
    "batch_id = 1\n",
    "sample_id = 5\n",
    "helper.display_stats(cifar10_dataset_folder_path, batch_id, sample_id)"
   ]
  },
  {
   "cell_type": "markdown",
   "metadata": {},
   "source": [
    "## Implement Preprocess Functions\n",
    "### Normalize\n",
    "In the cell below, implement the `normalize` function to take in image data, `x`, and return it as a normalized Numpy array. The values should be in the range of 0 to 1, inclusive.  The return object should be the same shape as `x`."
   ]
  },
  {
   "cell_type": "code",
   "execution_count": 4,
   "metadata": {},
   "outputs": [
    {
     "name": "stdout",
     "output_type": "stream",
     "text": [
      "Tests Passed\n"
     ]
    }
   ],
   "source": [
    "def normalize(x):\n",
    "    \"\"\"\n",
    "    Normalize a list of sample image data in the range of 0 to 1\n",
    "    : x: List of image data.  The image shape is (32, 32, 3)\n",
    "    : return: Numpy array of normalize data\n",
    "    \"\"\"\n",
    "    # TODO: Implement Function\n",
    "    \n",
    "\n",
    "    return np.array(x/255)\n",
    "\n",
    "\n",
    "\"\"\"\n",
    "DON'T MODIFY ANYTHING IN THIS CELL THAT IS BELOW THIS LINE\n",
    "\"\"\"\n",
    "tests.test_normalize(normalize)"
   ]
  },
  {
   "cell_type": "markdown",
   "metadata": {},
   "source": [
    "### One-hot encode\n",
    "Just like the previous code cell, you'll be implementing a function for preprocessing.  This time, you'll implement the `one_hot_encode` function. The input, `x`, are a list of labels.  Implement the function to return the list of labels as One-Hot encoded Numpy array.  The possible values for labels are 0 to 9. The one-hot encoding function should return the same encoding for each value between each call to `one_hot_encode`.  Make sure to save the map of encodings outside the function.\n",
    "\n",
    "Hint: Don't reinvent the wheel."
   ]
  },
  {
   "cell_type": "code",
   "execution_count": 5,
   "metadata": {},
   "outputs": [
    {
     "name": "stdout",
     "output_type": "stream",
     "text": [
      "Tests Passed\n"
     ]
    }
   ],
   "source": [
    "def one_hot_encode(x):\n",
    "    \"\"\"\n",
    "    One hot encode a list of sample labels. Return a one-hot encoded vector for each label.\n",
    "    : x: List of sample Labels\n",
    "    : return: Numpy array of one-hot encoded labels\n",
    "    \"\"\"\n",
    "    # TODO: Implement Function\n",
    "\n",
    "    return np.eye(10)[x]\n",
    "\n",
    "one_hot_map = {}\n",
    "def one_hot_encode_helper(x):\n",
    "    if x in one_hot_map:\n",
    "        return one_hot_map[x]\n",
    "    result = np.zeros(10)\n",
    "    result[x] = 0\n",
    "    one_hot_map[x] = result\n",
    "    return result\n",
    "\n",
    "\"\"\"\n",
    "DON'T MODIFY ANYTHING IN THIS CELL THAT IS BELOW THIS LINE\n",
    "\"\"\"\n",
    "tests.test_one_hot_encode(one_hot_encode)"
   ]
  },
  {
   "cell_type": "markdown",
   "metadata": {},
   "source": [
    "### Randomize Data\n",
    "As you saw from exploring the data above, the order of the samples are randomized.  It doesn't hurt to randomize it again, but you don't need to for this dataset."
   ]
  },
  {
   "cell_type": "markdown",
   "metadata": {},
   "source": [
    "## Preprocess all the data and save it\n",
    "Running the code cell below will preprocess all the CIFAR-10 data and save it to file. The code below also uses 10% of the training data for validation."
   ]
  },
  {
   "cell_type": "code",
   "execution_count": 6,
   "metadata": {},
   "outputs": [],
   "source": [
    "\"\"\"\n",
    "DON'T MODIFY ANYTHING IN THIS CELL\n",
    "\"\"\"\n",
    "# Preprocess Training, Validation, and Testing Data\n",
    "helper.preprocess_and_save_data(cifar10_dataset_folder_path, normalize, one_hot_encode)"
   ]
  },
  {
   "cell_type": "markdown",
   "metadata": {},
   "source": [
    "# Check Point\n",
    "This is your first checkpoint.  If you ever decide to come back to this notebook or have to restart the notebook, you can start from here.  The preprocessed data has been saved to disk."
   ]
  },
  {
   "cell_type": "code",
   "execution_count": 7,
   "metadata": {},
   "outputs": [],
   "source": [
    "\"\"\"\n",
    "DON'T MODIFY ANYTHING IN THIS CELL\n",
    "\"\"\"\n",
    "import pickle\n",
    "import problem_unittests as tests\n",
    "import helper\n",
    "\n",
    "# Load the Preprocessed Validation data\n",
    "valid_features, valid_labels = pickle.load(open('preprocess_validation.p', mode='rb'))"
   ]
  },
  {
   "cell_type": "markdown",
   "metadata": {},
   "source": [
    "## Build the network\n",
    "For the neural network, you'll build each layer into a function.  Most of the code you've seen has been outside of functions. To test your code more thoroughly, we require that you put each layer in a function.  This allows us to give you better feedback and test for simple mistakes using our unittests before you submit your project.\n",
    "\n",
    ">**Note:** If you're finding it hard to dedicate enough time for this course each week, we've provided a small shortcut to this part of the project. In the next couple of problems, you'll have the option to use classes from the [TensorFlow Layers](https://www.tensorflow.org/api_docs/python/tf/layers) or [TensorFlow Layers (contrib)](https://www.tensorflow.org/api_guides/python/contrib.layers) packages to build each layer, except the layers you build in the \"Convolutional and Max Pooling Layer\" section.  TF Layers is similar to Keras's and TFLearn's abstraction to layers, so it's easy to pickup.\n",
    "\n",
    ">However, if you would like to get the most out of this course, try to solve all the problems _without_ using anything from the TF Layers packages. You **can** still use classes from other packages that happen to have the same name as ones you find in TF Layers! For example, instead of using the TF Layers version of the `conv2d` class, [tf.layers.conv2d](https://www.tensorflow.org/api_docs/python/tf/layers/conv2d), you would want to use the TF Neural Network version of `conv2d`, [tf.nn.conv2d](https://www.tensorflow.org/api_docs/python/tf/nn/conv2d). \n",
    "\n",
    "Let's begin!\n",
    "\n",
    "### Input\n",
    "The neural network needs to read the image data, one-hot encoded labels, and dropout keep probability. Implement the following functions\n",
    "* Implement `neural_net_image_input`\n",
    " * Return a [TF Placeholder](https://www.tensorflow.org/api_docs/python/tf/placeholder)\n",
    " * Set the shape using `image_shape` with batch size set to `None`.\n",
    " * Name the TensorFlow placeholder \"x\" using the TensorFlow `name` parameter in the [TF Placeholder](https://www.tensorflow.org/api_docs/python/tf/placeholder).\n",
    "* Implement `neural_net_label_input`\n",
    " * Return a [TF Placeholder](https://www.tensorflow.org/api_docs/python/tf/placeholder)\n",
    " * Set the shape using `n_classes` with batch size set to `None`.\n",
    " * Name the TensorFlow placeholder \"y\" using the TensorFlow `name` parameter in the [TF Placeholder](https://www.tensorflow.org/api_docs/python/tf/placeholder).\n",
    "* Implement `neural_net_keep_prob_input`\n",
    " * Return a [TF Placeholder](https://www.tensorflow.org/api_docs/python/tf/placeholder) for dropout keep probability.\n",
    " * Name the TensorFlow placeholder \"keep_prob\" using the TensorFlow `name` parameter in the [TF Placeholder](https://www.tensorflow.org/api_docs/python/tf/placeholder).\n",
    "\n",
    "These names will be used at the end of the project to load your saved model.\n",
    "\n",
    "Note: `None` for shapes in TensorFlow allow for a dynamic size."
   ]
  },
  {
   "cell_type": "code",
   "execution_count": 8,
   "metadata": {},
   "outputs": [
    {
     "name": "stdout",
     "output_type": "stream",
     "text": [
      "Image Input Tests Passed.\n",
      "Label Input Tests Passed.\n",
      "Keep Prob Tests Passed.\n"
     ]
    }
   ],
   "source": [
    "import tensorflow as tf\n",
    "\n",
    "def neural_net_image_input(image_shape):\n",
    "    \"\"\"\n",
    "    Return a Tensor for a batch of image input\n",
    "    : image_shape: Shape of the images\n",
    "    : return: Tensor for image input.\n",
    "    \"\"\"\n",
    "    # TODO: Implement Function\n",
    "    \n",
    "    x = tf.placeholder(tf.float32, shape = [None, image_shape[0], image_shape[1], image_shape[2]], name = 'x')\n",
    "    \n",
    "    return x\n",
    "\n",
    "\n",
    "def neural_net_label_input(n_classes):\n",
    "    \"\"\"\n",
    "    Return a Tensor for a batch of label input\n",
    "    : n_classes: Number of classes\n",
    "    : return: Tensor for label input.\n",
    "    \"\"\"\n",
    "    # TODO: Implement Function\n",
    "    \n",
    "    y = tf.placeholder(tf.float32, shape=[None, n_classes], name = 'y')\n",
    "    \n",
    "    return y\n",
    "\n",
    "\n",
    "def neural_net_keep_prob_input():\n",
    "    \"\"\"\n",
    "    Return a Tensor for keep probability\n",
    "    : return: Tensor for keep probability.\n",
    "    \"\"\"\n",
    "    # TODO: Implement Function\n",
    "    return tf.placeholder(tf.float32, name = 'keep_prob')\n",
    "\n",
    "\n",
    "\"\"\"\n",
    "DON'T MODIFY ANYTHING IN THIS CELL THAT IS BELOW THIS LINE\n",
    "\"\"\"\n",
    "tf.reset_default_graph()\n",
    "tests.test_nn_image_inputs(neural_net_image_input)\n",
    "tests.test_nn_label_inputs(neural_net_label_input)\n",
    "tests.test_nn_keep_prob_inputs(neural_net_keep_prob_input)"
   ]
  },
  {
   "cell_type": "markdown",
   "metadata": {},
   "source": [
    "### Convolution and Max Pooling Layer\n",
    "Convolution layers have a lot of success with images. For this code cell, you should implement the function `conv2d_maxpool` to apply convolution then max pooling:\n",
    "* Create the weight and bias using `conv_ksize`, `conv_num_outputs` and the shape of `x_tensor`.\n",
    "* Apply a convolution to `x_tensor` using weight and `conv_strides`.\n",
    " * We recommend you use same padding, but you're welcome to use any padding.\n",
    "* Add bias\n",
    "* Add a nonlinear activation to the convolution.\n",
    "* Apply Max Pooling using `pool_ksize` and `pool_strides`.\n",
    " * We recommend you use same padding, but you're welcome to use any padding.\n",
    "\n",
    "**Note:** You **can't** use [TensorFlow Layers](https://www.tensorflow.org/api_docs/python/tf/layers) or [TensorFlow Layers (contrib)](https://www.tensorflow.org/api_guides/python/contrib.layers) for **this** layer, but you can still use TensorFlow's [Neural Network](https://www.tensorflow.org/api_docs/python/tf/nn) package. You may still use the shortcut option for all the **other** layers."
   ]
  },
  {
   "cell_type": "code",
   "execution_count": 9,
   "metadata": {},
   "outputs": [
    {
     "name": "stdout",
     "output_type": "stream",
     "text": [
      "Tests Passed\n"
     ]
    }
   ],
   "source": [
    "def conv2d_maxpool(x_tensor, conv_num_outputs, conv_ksize, conv_strides, pool_ksize, pool_strides):\n",
    "    \"\"\"\n",
    "    Apply convolution then max pooling to x_tensor\n",
    "    :param x_tensor: TensorFlow Tensor\n",
    "    :param conv_num_outputs: Number of outputs for the convolutional layer\n",
    "    :param conv_ksize: kernal size 2-D Tuple for the convolutional layer\n",
    "    :param conv_strides: Stride 2-D Tuple for convolution\n",
    "    :param pool_ksize: kernal size 2-D Tuple for pool\n",
    "    :param pool_strides: Stride 2-D Tuple for pool\n",
    "    : return: A tensor that represents convolution and max pooling of x_tensor\n",
    "    \"\"\"\n",
    "    # TODO: Implement Function\n",
    "    \n",
    "    filter_weights = tf.Variable(\n",
    "        tf.truncated_normal(\n",
    "            shape =[conv_ksize[0], conv_ksize[1],x_tensor.get_shape().as_list()[-1], conv_num_outputs],\n",
    "            stddev = 0.1)\n",
    "    \n",
    "    )\n",
    "    \n",
    "    biases = tf.Variable(tf.zeros(conv_num_outputs))\n",
    "    \n",
    "    layer = tf.nn.conv2d(input = x_tensor,\n",
    "                         filter = filter_weights,\n",
    "                         strides = [1,conv_strides[0],conv_strides[1],1],\n",
    "                         padding = 'SAME')\n",
    "    \n",
    "    layer = tf.nn.bias_add(layer, biases)\n",
    "    layer = tf.nn.relu(layer)\n",
    "    layer = tf.nn.max_pool(layer,\n",
    "                           ksize = [1, pool_ksize[0], pool_ksize[1], 1],\n",
    "                           strides = [1, pool_strides[0], pool_strides[1],1],\n",
    "                           padding = 'SAME'\n",
    "                          )\n",
    "    \n",
    "    return layer\n",
    "\n",
    "\n",
    "\"\"\"\n",
    "DON'T MODIFY ANYTHING IN THIS CELL THAT IS BELOW THIS LINE\n",
    "\"\"\"\n",
    "tests.test_con_pool(conv2d_maxpool)"
   ]
  },
  {
   "cell_type": "markdown",
   "metadata": {},
   "source": [
    "### Flatten Layer\n",
    "Implement the `flatten` function to change the dimension of `x_tensor` from a 4-D tensor to a 2-D tensor.  The output should be the shape (*Batch Size*, *Flattened Image Size*). Shortcut option: you can use classes from the [TensorFlow Layers](https://www.tensorflow.org/api_docs/python/tf/layers) or [TensorFlow Layers (contrib)](https://www.tensorflow.org/api_guides/python/contrib.layers) packages for this layer. For more of a challenge, only use other TensorFlow packages."
   ]
  },
  {
   "cell_type": "code",
   "execution_count": 10,
   "metadata": {},
   "outputs": [
    {
     "name": "stdout",
     "output_type": "stream",
     "text": [
      "Tests Passed\n"
     ]
    }
   ],
   "source": [
    "def flatten(x_tensor):\n",
    "    \"\"\"\n",
    "    Flatten x_tensor to (Batch Size, Flattened Image Size)\n",
    "    : x_tensor: A tensor of size (Batch Size, ...), where ... are the image dimensions.\n",
    "    : return: A tensor of size (Batch Size, Flattened Image Size).\n",
    "    \"\"\"\n",
    "    # TODO: Implement Function\n",
    "    \n",
    "    num_features = x_tensor.shape[1]*x_tensor.shape[2]*x_tensor.shape[3]\n",
    "    \n",
    "    return tf.reshape(x_tensor, [-1, num_features.value])\n",
    "    \n",
    "    #return tf.contrib.layers.flatten(x_tensor)\n",
    "    \n",
    "\n",
    "\"\"\"\n",
    "DON'T MODIFY ANYTHING IN THIS CELL THAT IS BELOW THIS LINE\n",
    "\"\"\"\n",
    "tests.test_flatten(flatten)"
   ]
  },
  {
   "cell_type": "markdown",
   "metadata": {},
   "source": [
    "### Fully-Connected Layer\n",
    "Implement the `fully_conn` function to apply a fully connected layer to `x_tensor` with the shape (*Batch Size*, *num_outputs*). Shortcut option: you can use classes from the [TensorFlow Layers](https://www.tensorflow.org/api_docs/python/tf/layers) or [TensorFlow Layers (contrib)](https://www.tensorflow.org/api_guides/python/contrib.layers) packages for this layer. For more of a challenge, only use other TensorFlow packages."
   ]
  },
  {
   "cell_type": "code",
   "execution_count": 11,
   "metadata": {},
   "outputs": [
    {
     "name": "stdout",
     "output_type": "stream",
     "text": [
      "Tests Passed\n"
     ]
    }
   ],
   "source": [
    "def fully_conn(x_tensor, num_outputs):\n",
    "    \"\"\"\n",
    "    Apply a fully connected layer to x_tensor using weight and bias\n",
    "    : x_tensor: A 2-D tensor where the first dimension is batch size.\n",
    "    : num_outputs: The number of output that the new tensor should be.\n",
    "    : return: A 2-D tensor where the second dimension is num_outputs.\n",
    "    \"\"\"\n",
    "    # TODO: Implement Function\n",
    "    \n",
    "    weights = tf.Variable(tf.truncated_normal(shape =[x_tensor.shape[1].value, num_outputs],stddev = 0.1))\n",
    "    bias = tf.Variable(tf.zeros([num_outputs]))\n",
    "    \n",
    "    output = tf.add(tf.matmul(x_tensor, weights), bias)\n",
    "    output = tf.nn.relu(output)\n",
    "    return output\n",
    "\n",
    "\n",
    "\"\"\"\n",
    "DON'T MODIFY ANYTHING IN THIS CELL THAT IS BELOW THIS LINE\n",
    "\"\"\"\n",
    "tests.test_fully_conn(fully_conn)"
   ]
  },
  {
   "cell_type": "markdown",
   "metadata": {},
   "source": [
    "### Output Layer\n",
    "Implement the `output` function to apply a fully connected layer to `x_tensor` with the shape (*Batch Size*, *num_outputs*). Shortcut option: you can use classes from the [TensorFlow Layers](https://www.tensorflow.org/api_docs/python/tf/layers) or [TensorFlow Layers (contrib)](https://www.tensorflow.org/api_guides/python/contrib.layers) packages for this layer. For more of a challenge, only use other TensorFlow packages.\n",
    "\n",
    "**Note:** Activation, softmax, or cross entropy should **not** be applied to this."
   ]
  },
  {
   "cell_type": "code",
   "execution_count": 12,
   "metadata": {},
   "outputs": [
    {
     "name": "stdout",
     "output_type": "stream",
     "text": [
      "Tests Passed\n"
     ]
    }
   ],
   "source": [
    "def output(x_tensor, num_outputs):\n",
    "    \"\"\"\n",
    "    Apply a output layer to x_tensor using weight and bias\n",
    "    : x_tensor: A 2-D tensor where the first dimension is batch size.\n",
    "    : num_outputs: The number of output that the new tensor should be.\n",
    "    : return: A 2-D tensor where the second dimension is num_outputs.\n",
    "    \"\"\"\n",
    "    # TODO: Implement Function\n",
    "    weights = tf.Variable(tf.random_normal(shape =[x_tensor.shape[1].value, num_outputs],stddev = 0.1))\n",
    "    bias = tf.Variable(tf.zeros([num_outputs]))\n",
    "    \n",
    "    output = tf.add(tf.matmul(x_tensor, weights), bias)\n",
    "    \n",
    "    return output\n",
    "\n",
    "\n",
    "\"\"\"\n",
    "DON'T MODIFY ANYTHING IN THIS CELL THAT IS BELOW THIS LINE\n",
    "\"\"\"\n",
    "tests.test_output(output)"
   ]
  },
  {
   "cell_type": "markdown",
   "metadata": {},
   "source": [
    "### Create Convolutional Model\n",
    "Implement the function `conv_net` to create a convolutional neural network model. The function takes in a batch of images, `x`, and outputs logits.  Use the layers you created above to create this model:\n",
    "\n",
    "* Apply 1, 2, or 3 Convolution and Max Pool layers\n",
    "* Apply a Flatten Layer\n",
    "* Apply 1, 2, or 3 Fully Connected Layers\n",
    "* Apply an Output Layer\n",
    "* Return the output\n",
    "* Apply [TensorFlow's Dropout](https://www.tensorflow.org/api_docs/python/tf/nn/dropout) to one or more layers in the model using `keep_prob`. "
   ]
  },
  {
   "cell_type": "code",
   "execution_count": 13,
   "metadata": {},
   "outputs": [
    {
     "name": "stdout",
     "output_type": "stream",
     "text": [
      "WARNING:tensorflow:From <ipython-input-13-5cb03df470a4>:88: softmax_cross_entropy_with_logits (from tensorflow.python.ops.nn_ops) is deprecated and will be removed in a future version.\n",
      "Instructions for updating:\n",
      "\n",
      "Future major versions of TensorFlow will allow gradients to flow\n",
      "into the labels input on backprop by default.\n",
      "\n",
      "See tf.nn.softmax_cross_entropy_with_logits_v2.\n",
      "\n",
      "Neural Network Built!\n"
     ]
    }
   ],
   "source": [
    "def conv_net(x, keep_prob):\n",
    "    \"\"\"\n",
    "    Create a convolutional neural network model\n",
    "    : x: Placeholder tensor that holds image data.\n",
    "    : keep_prob: Placeholder tensor that hold dropout keep probability.\n",
    "    : return: Tensor that represents logits\n",
    "    \"\"\"\n",
    "    # TODO: Apply 1, 2, or 3 Convolution and Max Pool layers\n",
    "    #    Play around with different number of outputs, kernel size and stride\n",
    "    # Function Definition from Above:\n",
    "    #    conv2d_maxpool(x_tensor, conv_num_outputs, conv_ksize, conv_strides, pool_ksize, pool_strides)\n",
    "    \n",
    "    layer_conv1 = conv2d_maxpool(x_tensor = x,\n",
    "                                 conv_num_outputs = 16,\n",
    "                                 conv_ksize = [5,5],\n",
    "                                 conv_strides = [1,1],\n",
    "                                 pool_ksize = [2,2],\n",
    "                                 pool_strides = [2,2]) \n",
    "    \n",
    "    layer_conv2 = conv2d_maxpool(x_tensor = layer_conv1,\n",
    "                                 conv_num_outputs = 32,\n",
    "                                 conv_ksize = [5,5],\n",
    "                                 conv_strides = [1,1],\n",
    "                                 pool_ksize = [2,2],\n",
    "                                 pool_strides = [2,2])\n",
    "    \n",
    "    layer_conv3 = conv2d_maxpool(x_tensor = layer_conv2,\n",
    "                                 conv_num_outputs = 64,\n",
    "                                 conv_ksize = [5,5],\n",
    "                                 conv_strides = [1,1],\n",
    "                                 pool_ksize = [2,2],\n",
    "                                 pool_strides = [2,2])\n",
    "    \n",
    "    \n",
    "    \n",
    "    \n",
    "\n",
    "    # TODO: Apply a Flatten Layer\n",
    "    # Function Definition from Above:\n",
    "    #   flatten(x_tensor)\n",
    "    \n",
    "    flatten_layer = flatten(layer_conv3)\n",
    "    \n",
    "\n",
    "    # TODO: Apply 1, 2, or 3 Fully Connected Layers\n",
    "    #    Play around with different number of outputs\n",
    "    # Function Definition from Above:\n",
    "    #   fully_conn(x_tensor, num_outputs)\n",
    "    \n",
    "    fc1 = fully_conn(flatten_layer, 128)\n",
    "    fc2 = fully_conn(fc1, 128)\n",
    "    \n",
    "    # TODO: Apply an Output Layer\n",
    "    #    Set this to the number of classes\n",
    "    # Function Definition from Above:\n",
    "    #   output(x_tensor, num_outputs)\n",
    "    \n",
    "    fc2 = tf.nn.dropout(fc2, keep_prob=keep_prob)\n",
    "    out = output(fc2, 10)\n",
    "    \n",
    "    # TODO: return output\n",
    "    return out\n",
    "\n",
    "\n",
    "\"\"\"\n",
    "DON'T MODIFY ANYTHING IN THIS CELL THAT IS BELOW THIS LINE\n",
    "\"\"\"\n",
    "\n",
    "##############################\n",
    "## Build the Neural Network ##\n",
    "##############################\n",
    "\n",
    "# Remove previous weights, bias, inputs, etc..\n",
    "tf.reset_default_graph()\n",
    "\n",
    "# Inputs\n",
    "x = neural_net_image_input((32, 32, 3))\n",
    "y = neural_net_label_input(10)\n",
    "keep_prob = neural_net_keep_prob_input()\n",
    "\n",
    "# Model\n",
    "logits = conv_net(x, keep_prob)\n",
    "\n",
    "# Name logits Tensor, so that is can be loaded from disk after training\n",
    "logits = tf.identity(logits, name='logits')\n",
    "\n",
    "# Loss and Optimizer\n",
    "cost = tf.reduce_mean(tf.nn.softmax_cross_entropy_with_logits(logits=logits, labels=y))\n",
    "optimizer = tf.train.AdamOptimizer().minimize(cost)\n",
    "\n",
    "# Accuracy\n",
    "correct_pred = tf.equal(tf.argmax(logits, 1), tf.argmax(y, 1))\n",
    "accuracy = tf.reduce_mean(tf.cast(correct_pred, tf.float32), name='accuracy')\n",
    "\n",
    "tests.test_conv_net(conv_net)"
   ]
  },
  {
   "cell_type": "markdown",
   "metadata": {},
   "source": [
    "## Train the Neural Network\n",
    "### Single Optimization\n",
    "Implement the function `train_neural_network` to do a single optimization.  The optimization should use `optimizer` to optimize in `session` with a `feed_dict` of the following:\n",
    "* `x` for image input\n",
    "* `y` for labels\n",
    "* `keep_prob` for keep probability for dropout\n",
    "\n",
    "This function will be called for each batch, so `tf.global_variables_initializer()` has already been called.\n",
    "\n",
    "Note: Nothing needs to be returned. This function is only optimizing the neural network."
   ]
  },
  {
   "cell_type": "code",
   "execution_count": 14,
   "metadata": {},
   "outputs": [
    {
     "name": "stdout",
     "output_type": "stream",
     "text": [
      "Tests Passed\n"
     ]
    }
   ],
   "source": [
    "def train_neural_network(session, optimizer, keep_probability, feature_batch, label_batch):\n",
    "    \"\"\"\n",
    "    Optimize the session on a batch of images and labels\n",
    "    : session: Current TensorFlow session\n",
    "    : optimizer: TensorFlow optimizer function\n",
    "    : keep_probability: keep probability\n",
    "    : feature_batch: Batch of Numpy image data\n",
    "    : label_batch: Batch of Numpy label data\n",
    "    \"\"\"\n",
    "    # TODO: Implement Function\n",
    "    \n",
    "    session.run(optimizer, feed_dict ={x: feature_batch, y: label_batch, keep_prob: keep_probability})\n",
    "\n",
    "\n",
    "\"\"\"\n",
    "DON'T MODIFY ANYTHING IN THIS CELL THAT IS BELOW THIS LINE\n",
    "\"\"\"\n",
    "tests.test_train_nn(train_neural_network)"
   ]
  },
  {
   "cell_type": "markdown",
   "metadata": {},
   "source": [
    "### Show Stats\n",
    "Implement the function `print_stats` to print loss and validation accuracy.  Use the global variables `valid_features` and `valid_labels` to calculate validation accuracy.  Use a keep probability of `1.0` to calculate the loss and validation accuracy."
   ]
  },
  {
   "cell_type": "code",
   "execution_count": 15,
   "metadata": {},
   "outputs": [],
   "source": [
    "def print_stats(session, feature_batch, label_batch, cost, accuracy):\n",
    "    \"\"\"\n",
    "    Print information about loss and validation accuracy\n",
    "    : session: Current TensorFlow session\n",
    "    : feature_batch: Batch of Numpy image data\n",
    "    : label_batch: Batch of Numpy label data\n",
    "    : cost: TensorFlow cost function\n",
    "    : accuracy: TensorFlow accuracy function\n",
    "    \"\"\"\n",
    "    # TODO: Implement Function\n",
    "    \n",
    "    loss = session.run(cost, feed_dict ={x: feature_batch, y: label_batch, keep_prob: 1.0})\n",
    "    \n",
    "    acc = session.run(accuracy, feed_dict = {x: valid_features, y: valid_labels, keep_prob: 1.0 })\n",
    "    \n",
    "    print('Loss = {0} Validation Accuracy = {1}'.format(loss, acc))"
   ]
  },
  {
   "cell_type": "markdown",
   "metadata": {},
   "source": [
    "### Hyperparameters\n",
    "Tune the following parameters:\n",
    "* Set `epochs` to the number of iterations until the network stops learning or start overfitting\n",
    "* Set `batch_size` to the highest number that your machine has memory for.  Most people set them to common sizes of memory:\n",
    " * 64\n",
    " * 128\n",
    " * 256\n",
    " * ...\n",
    "* Set `keep_probability` to the probability of keeping a node using dropout"
   ]
  },
  {
   "cell_type": "code",
   "execution_count": 16,
   "metadata": {},
   "outputs": [],
   "source": [
    "# TODO: Tune Parameters\n",
    "epochs = 25\n",
    "batch_size = 256\n",
    "keep_probability = 0.75"
   ]
  },
  {
   "cell_type": "markdown",
   "metadata": {},
   "source": [
    "### Train on a Single CIFAR-10 Batch\n",
    "Instead of training the neural network on all the CIFAR-10 batches of data, let's use a single batch. This should save time while you iterate on the model to get a better accuracy.  Once the final validation accuracy is 50% or greater, run the model on all the data in the next section."
   ]
  },
  {
   "cell_type": "code",
   "execution_count": 17,
   "metadata": {},
   "outputs": [
    {
     "name": "stdout",
     "output_type": "stream",
     "text": [
      "Checking the Training on a Single Batch...\n",
      "Epoch  1, CIFAR-10 Batch 1:  Loss = 2.2367680072784424 Validation Accuracy = 0.28439998626708984\n",
      "Epoch  2, CIFAR-10 Batch 1:  Loss = 1.8792568445205688 Validation Accuracy = 0.3797999918460846\n",
      "Epoch  3, CIFAR-10 Batch 1:  Loss = 1.6905279159545898 Validation Accuracy = 0.42100000381469727\n",
      "Epoch  4, CIFAR-10 Batch 1:  Loss = 1.4597071409225464 Validation Accuracy = 0.4343999922275543\n",
      "Epoch  5, CIFAR-10 Batch 1:  Loss = 1.2091995477676392 Validation Accuracy = 0.4634000062942505\n",
      "Epoch  6, CIFAR-10 Batch 1:  Loss = 1.0819568634033203 Validation Accuracy = 0.4726000130176544\n",
      "Epoch  7, CIFAR-10 Batch 1:  Loss = 0.8996542096138 Validation Accuracy = 0.49300000071525574\n",
      "Epoch  8, CIFAR-10 Batch 1:  Loss = 0.7434583306312561 Validation Accuracy = 0.5040000081062317\n",
      "Epoch  9, CIFAR-10 Batch 1:  Loss = 0.6645646691322327 Validation Accuracy = 0.5058000087738037\n",
      "Epoch 10, CIFAR-10 Batch 1:  Loss = 0.536459743976593 Validation Accuracy = 0.5145999789237976\n",
      "Epoch 11, CIFAR-10 Batch 1:  Loss = 0.4643324911594391 Validation Accuracy = 0.5170000195503235\n",
      "Epoch 12, CIFAR-10 Batch 1:  Loss = 0.37932372093200684 Validation Accuracy = 0.5202000141143799\n",
      "Epoch 13, CIFAR-10 Batch 1:  Loss = 0.37414273619651794 Validation Accuracy = 0.5095999836921692\n",
      "Epoch 14, CIFAR-10 Batch 1:  Loss = 0.28412359952926636 Validation Accuracy = 0.510200023651123\n",
      "Epoch 15, CIFAR-10 Batch 1:  Loss = 0.28363531827926636 Validation Accuracy = 0.5289999842643738\n",
      "Epoch 16, CIFAR-10 Batch 1:  Loss = 0.25504833459854126 Validation Accuracy = 0.5307999849319458\n",
      "Epoch 17, CIFAR-10 Batch 1:  Loss = 0.2504270076751709 Validation Accuracy = 0.5184000134468079\n",
      "Epoch 18, CIFAR-10 Batch 1:  Loss = 0.33146601915359497 Validation Accuracy = 0.47040000557899475\n",
      "Epoch 19, CIFAR-10 Batch 1:  Loss = 0.2042527198791504 Validation Accuracy = 0.5105999708175659\n",
      "Epoch 20, CIFAR-10 Batch 1:  Loss = 0.17495253682136536 Validation Accuracy = 0.5406000018119812\n",
      "Epoch 21, CIFAR-10 Batch 1:  Loss = 0.12188245356082916 Validation Accuracy = 0.5382000207901001\n",
      "Epoch 22, CIFAR-10 Batch 1:  Loss = 0.09316787868738174 Validation Accuracy = 0.5529999732971191\n",
      "Epoch 23, CIFAR-10 Batch 1:  Loss = 0.06284628808498383 Validation Accuracy = 0.5461999773979187\n",
      "Epoch 24, CIFAR-10 Batch 1:  Loss = 0.06038295105099678 Validation Accuracy = 0.5303999781608582\n",
      "Epoch 25, CIFAR-10 Batch 1:  Loss = 0.07262007147073746 Validation Accuracy = 0.5171999931335449\n"
     ]
    }
   ],
   "source": [
    "\"\"\"\n",
    "DON'T MODIFY ANYTHING IN THIS CELL\n",
    "\"\"\"\n",
    "print('Checking the Training on a Single Batch...')\n",
    "with tf.Session() as sess:\n",
    "    # Initializing the variables\n",
    "    sess.run(tf.global_variables_initializer())\n",
    "    \n",
    "    # Training cycle\n",
    "    for epoch in range(epochs):\n",
    "        batch_i = 1\n",
    "        for batch_features, batch_labels in helper.load_preprocess_training_batch(batch_i, batch_size):\n",
    "            train_neural_network(sess, optimizer, keep_probability, batch_features, batch_labels)\n",
    "        print('Epoch {:>2}, CIFAR-10 Batch {}:  '.format(epoch + 1, batch_i), end='')\n",
    "        print_stats(sess, batch_features, batch_labels, cost, accuracy)"
   ]
  },
  {
   "cell_type": "markdown",
   "metadata": {},
   "source": [
    "### Fully Train the Model\n",
    "Now that you got a good accuracy with a single CIFAR-10 batch, try it with all five batches."
   ]
  },
  {
   "cell_type": "code",
   "execution_count": 18,
   "metadata": {},
   "outputs": [
    {
     "name": "stdout",
     "output_type": "stream",
     "text": [
      "Training...\n",
      "Epoch  1, CIFAR-10 Batch 1:  Loss = 2.0684924125671387 Validation Accuracy = 0.30379998683929443\n",
      "Epoch  1, CIFAR-10 Batch 2:  Loss = 1.7133252620697021 Validation Accuracy = 0.4000000059604645\n",
      "Epoch  1, CIFAR-10 Batch 3:  Loss = 1.4188302755355835 Validation Accuracy = 0.4309999942779541\n",
      "Epoch  1, CIFAR-10 Batch 4:  Loss = 1.4345316886901855 Validation Accuracy = 0.46700000762939453\n",
      "Epoch  1, CIFAR-10 Batch 5:  Loss = 1.462597131729126 Validation Accuracy = 0.4722000062465668\n",
      "Epoch  2, CIFAR-10 Batch 1:  Loss = 1.5530064105987549 Validation Accuracy = 0.49459999799728394\n",
      "Epoch  2, CIFAR-10 Batch 2:  Loss = 1.471639633178711 Validation Accuracy = 0.5108000040054321\n",
      "Epoch  2, CIFAR-10 Batch 3:  Loss = 0.972789466381073 Validation Accuracy = 0.5135999917984009\n",
      "Epoch  2, CIFAR-10 Batch 4:  Loss = 1.116760015487671 Validation Accuracy = 0.5472000241279602\n",
      "Epoch  2, CIFAR-10 Batch 5:  Loss = 1.2144839763641357 Validation Accuracy = 0.5332000255584717\n",
      "Epoch  3, CIFAR-10 Batch 1:  Loss = 1.243780493736267 Validation Accuracy = 0.5613999962806702\n",
      "Epoch  3, CIFAR-10 Batch 2:  Loss = 1.0805308818817139 Validation Accuracy = 0.5364000201225281\n",
      "Epoch  3, CIFAR-10 Batch 3:  Loss = 0.7502926588058472 Validation Accuracy = 0.5490000247955322\n",
      "Epoch  3, CIFAR-10 Batch 4:  Loss = 0.849932849407196 Validation Accuracy = 0.5839999914169312\n",
      "Epoch  3, CIFAR-10 Batch 5:  Loss = 0.9806124567985535 Validation Accuracy = 0.5582000017166138\n",
      "Epoch  4, CIFAR-10 Batch 1:  Loss = 0.9213613271713257 Validation Accuracy = 0.5771999955177307\n",
      "Epoch  4, CIFAR-10 Batch 2:  Loss = 0.7800187468528748 Validation Accuracy = 0.5824000239372253\n",
      "Epoch  4, CIFAR-10 Batch 3:  Loss = 0.5580315589904785 Validation Accuracy = 0.5824000239372253\n",
      "Epoch  4, CIFAR-10 Batch 4:  Loss = 0.6272432804107666 Validation Accuracy = 0.6064000129699707\n",
      "Epoch  4, CIFAR-10 Batch 5:  Loss = 0.6903508305549622 Validation Accuracy = 0.6060000061988831\n",
      "Epoch  5, CIFAR-10 Batch 1:  Loss = 0.7115496397018433 Validation Accuracy = 0.6122000217437744\n",
      "Epoch  5, CIFAR-10 Batch 2:  Loss = 0.5395490527153015 Validation Accuracy = 0.5953999757766724\n",
      "Epoch  5, CIFAR-10 Batch 3:  Loss = 0.47081369161605835 Validation Accuracy = 0.6132000088691711\n",
      "Epoch  5, CIFAR-10 Batch 4:  Loss = 0.4888010621070862 Validation Accuracy = 0.6176000237464905\n",
      "Epoch  5, CIFAR-10 Batch 5:  Loss = 0.5378093123435974 Validation Accuracy = 0.618399977684021\n",
      "Epoch  6, CIFAR-10 Batch 1:  Loss = 0.5803542733192444 Validation Accuracy = 0.6248000264167786\n",
      "Epoch  6, CIFAR-10 Batch 2:  Loss = 0.37512296438217163 Validation Accuracy = 0.6290000081062317\n",
      "Epoch  6, CIFAR-10 Batch 3:  Loss = 0.4198269844055176 Validation Accuracy = 0.6146000027656555\n",
      "Epoch  6, CIFAR-10 Batch 4:  Loss = 0.3849300444126129 Validation Accuracy = 0.6304000020027161\n",
      "Epoch  6, CIFAR-10 Batch 5:  Loss = 0.41488951444625854 Validation Accuracy = 0.642799973487854\n",
      "Epoch  7, CIFAR-10 Batch 1:  Loss = 0.4245002865791321 Validation Accuracy = 0.6320000290870667\n",
      "Epoch  7, CIFAR-10 Batch 2:  Loss = 0.29079943895339966 Validation Accuracy = 0.6407999992370605\n",
      "Epoch  7, CIFAR-10 Batch 3:  Loss = 0.32861775159835815 Validation Accuracy = 0.6269999742507935\n",
      "Epoch  7, CIFAR-10 Batch 4:  Loss = 0.3355157971382141 Validation Accuracy = 0.6373999714851379\n",
      "Epoch  7, CIFAR-10 Batch 5:  Loss = 0.30690330266952515 Validation Accuracy = 0.6607999801635742\n",
      "Epoch  8, CIFAR-10 Batch 1:  Loss = 0.3488944172859192 Validation Accuracy = 0.6442000269889832\n",
      "Epoch  8, CIFAR-10 Batch 2:  Loss = 0.22228269279003143 Validation Accuracy = 0.6520000100135803\n",
      "Epoch  8, CIFAR-10 Batch 3:  Loss = 0.2464570552110672 Validation Accuracy = 0.6412000060081482\n",
      "Epoch  8, CIFAR-10 Batch 4:  Loss = 0.2524309754371643 Validation Accuracy = 0.6488000154495239\n",
      "Epoch  8, CIFAR-10 Batch 5:  Loss = 0.2614591419696808 Validation Accuracy = 0.6620000004768372\n",
      "Epoch  9, CIFAR-10 Batch 1:  Loss = 0.24166984856128693 Validation Accuracy = 0.6489999890327454\n",
      "Epoch  9, CIFAR-10 Batch 2:  Loss = 0.24104318022727966 Validation Accuracy = 0.6503999829292297\n",
      "Epoch  9, CIFAR-10 Batch 3:  Loss = 0.22488002479076385 Validation Accuracy = 0.646399974822998\n",
      "Epoch  9, CIFAR-10 Batch 4:  Loss = 0.20777073502540588 Validation Accuracy = 0.6510000228881836\n",
      "Epoch  9, CIFAR-10 Batch 5:  Loss = 0.19652673602104187 Validation Accuracy = 0.6614000201225281\n",
      "Epoch 10, CIFAR-10 Batch 1:  Loss = 0.18492178618907928 Validation Accuracy = 0.6582000255584717\n",
      "Epoch 10, CIFAR-10 Batch 2:  Loss = 0.16650331020355225 Validation Accuracy = 0.6492000222206116\n",
      "Epoch 10, CIFAR-10 Batch 3:  Loss = 0.19680026173591614 Validation Accuracy = 0.645799994468689\n",
      "Epoch 10, CIFAR-10 Batch 4:  Loss = 0.1614435613155365 Validation Accuracy = 0.6499999761581421\n",
      "Epoch 10, CIFAR-10 Batch 5:  Loss = 0.16145388782024384 Validation Accuracy = 0.6514000296592712\n",
      "Epoch 11, CIFAR-10 Batch 1:  Loss = 0.2175803929567337 Validation Accuracy = 0.6452000141143799\n",
      "Epoch 11, CIFAR-10 Batch 2:  Loss = 0.15424558520317078 Validation Accuracy = 0.6394000053405762\n",
      "Epoch 11, CIFAR-10 Batch 3:  Loss = 0.17781177163124084 Validation Accuracy = 0.6521999835968018\n",
      "Epoch 11, CIFAR-10 Batch 4:  Loss = 0.11812238395214081 Validation Accuracy = 0.6624000072479248\n",
      "Epoch 11, CIFAR-10 Batch 5:  Loss = 0.16135045886039734 Validation Accuracy = 0.6601999998092651\n",
      "Epoch 12, CIFAR-10 Batch 1:  Loss = 0.1767253428697586 Validation Accuracy = 0.6549999713897705\n",
      "Epoch 12, CIFAR-10 Batch 2:  Loss = 0.12262739986181259 Validation Accuracy = 0.6606000065803528\n",
      "Epoch 12, CIFAR-10 Batch 3:  Loss = 0.11934605985879898 Validation Accuracy = 0.6615999937057495\n",
      "Epoch 12, CIFAR-10 Batch 4:  Loss = 0.11770196259021759 Validation Accuracy = 0.6633999943733215\n",
      "Epoch 12, CIFAR-10 Batch 5:  Loss = 0.13505715131759644 Validation Accuracy = 0.6693999767303467\n",
      "Epoch 13, CIFAR-10 Batch 1:  Loss = 0.16804377734661102 Validation Accuracy = 0.6327999830245972\n",
      "Epoch 13, CIFAR-10 Batch 2:  Loss = 0.1027502566576004 Validation Accuracy = 0.652999997138977\n",
      "Epoch 13, CIFAR-10 Batch 3:  Loss = 0.10483670234680176 Validation Accuracy = 0.656000018119812\n",
      "Epoch 13, CIFAR-10 Batch 4:  Loss = 0.07135061174631119 Validation Accuracy = 0.659600019454956\n",
      "Epoch 13, CIFAR-10 Batch 5:  Loss = 0.10172124207019806 Validation Accuracy = 0.6700000166893005\n",
      "Epoch 14, CIFAR-10 Batch 1:  Loss = 0.10414601862430573 Validation Accuracy = 0.6489999890327454\n",
      "Epoch 14, CIFAR-10 Batch 2:  Loss = 0.07546686381101608 Validation Accuracy = 0.6453999876976013\n",
      "Epoch 14, CIFAR-10 Batch 3:  Loss = 0.09544903039932251 Validation Accuracy = 0.6485999822616577\n",
      "Epoch 14, CIFAR-10 Batch 4:  Loss = 0.08937373012304306 Validation Accuracy = 0.6650000214576721\n",
      "Epoch 14, CIFAR-10 Batch 5:  Loss = 0.08806983381509781 Validation Accuracy = 0.6621999740600586\n",
      "Epoch 15, CIFAR-10 Batch 1:  Loss = 0.0852583646774292 Validation Accuracy = 0.6692000031471252\n",
      "Epoch 15, CIFAR-10 Batch 2:  Loss = 0.07158708572387695 Validation Accuracy = 0.6456000208854675\n",
      "Epoch 15, CIFAR-10 Batch 3:  Loss = 0.06887904554605484 Validation Accuracy = 0.6643999814987183\n",
      "Epoch 15, CIFAR-10 Batch 4:  Loss = 0.05916503816843033 Validation Accuracy = 0.6696000099182129\n",
      "Epoch 15, CIFAR-10 Batch 5:  Loss = 0.047551315277814865 Validation Accuracy = 0.6751999855041504\n",
      "Epoch 16, CIFAR-10 Batch 1:  Loss = 0.10247083008289337 Validation Accuracy = 0.6564000248908997\n",
      "Epoch 16, CIFAR-10 Batch 2:  Loss = 0.0705055370926857 Validation Accuracy = 0.6546000242233276\n",
      "Epoch 16, CIFAR-10 Batch 3:  Loss = 0.0510987751185894 Validation Accuracy = 0.6498000025749207\n",
      "Epoch 16, CIFAR-10 Batch 4:  Loss = 0.06781598925590515 Validation Accuracy = 0.6607999801635742\n",
      "Epoch 16, CIFAR-10 Batch 5:  Loss = 0.0443897508084774 Validation Accuracy = 0.6679999828338623\n",
      "Epoch 17, CIFAR-10 Batch 1:  Loss = 0.06149662658572197 Validation Accuracy = 0.6567999720573425\n",
      "Epoch 17, CIFAR-10 Batch 2:  Loss = 0.050893139094114304 Validation Accuracy = 0.6489999890327454\n",
      "Epoch 17, CIFAR-10 Batch 3:  Loss = 0.04579839110374451 Validation Accuracy = 0.652400016784668\n",
      "Epoch 17, CIFAR-10 Batch 4:  Loss = 0.07495034486055374 Validation Accuracy = 0.6588000059127808\n",
      "Epoch 17, CIFAR-10 Batch 5:  Loss = 0.04098878800868988 Validation Accuracy = 0.6743999719619751\n"
     ]
    },
    {
     "name": "stdout",
     "output_type": "stream",
     "text": [
      "Epoch 18, CIFAR-10 Batch 1:  Loss = 0.07167284190654755 Validation Accuracy = 0.6299999952316284\n",
      "Epoch 18, CIFAR-10 Batch 2:  Loss = 0.04658172279596329 Validation Accuracy = 0.6190000176429749\n",
      "Epoch 18, CIFAR-10 Batch 3:  Loss = 0.039404626935720444 Validation Accuracy = 0.6570000052452087\n",
      "Epoch 18, CIFAR-10 Batch 4:  Loss = 0.07308363914489746 Validation Accuracy = 0.6520000100135803\n",
      "Epoch 18, CIFAR-10 Batch 5:  Loss = 0.04157290235161781 Validation Accuracy = 0.670199990272522\n",
      "Epoch 19, CIFAR-10 Batch 1:  Loss = 0.03808780387043953 Validation Accuracy = 0.6510000228881836\n",
      "Epoch 19, CIFAR-10 Batch 2:  Loss = 0.02825097367167473 Validation Accuracy = 0.6420000195503235\n",
      "Epoch 19, CIFAR-10 Batch 3:  Loss = 0.05367816612124443 Validation Accuracy = 0.6338000297546387\n",
      "Epoch 19, CIFAR-10 Batch 4:  Loss = 0.048861533403396606 Validation Accuracy = 0.651199996471405\n",
      "Epoch 19, CIFAR-10 Batch 5:  Loss = 0.03497711569070816 Validation Accuracy = 0.670199990272522\n",
      "Epoch 20, CIFAR-10 Batch 1:  Loss = 0.03913702815771103 Validation Accuracy = 0.647599995136261\n",
      "Epoch 20, CIFAR-10 Batch 2:  Loss = 0.04132535308599472 Validation Accuracy = 0.6489999890327454\n",
      "Epoch 20, CIFAR-10 Batch 3:  Loss = 0.03221198543906212 Validation Accuracy = 0.644599974155426\n",
      "Epoch 20, CIFAR-10 Batch 4:  Loss = 0.038259316235780716 Validation Accuracy = 0.6588000059127808\n",
      "Epoch 20, CIFAR-10 Batch 5:  Loss = 0.038234274834394455 Validation Accuracy = 0.6632000207901001\n",
      "Epoch 21, CIFAR-10 Batch 1:  Loss = 0.04888539761304855 Validation Accuracy = 0.640999972820282\n",
      "Epoch 21, CIFAR-10 Batch 2:  Loss = 0.043109603226184845 Validation Accuracy = 0.6323999762535095\n",
      "Epoch 21, CIFAR-10 Batch 3:  Loss = 0.02610239014029503 Validation Accuracy = 0.6606000065803528\n",
      "Epoch 21, CIFAR-10 Batch 4:  Loss = 0.030073385685682297 Validation Accuracy = 0.6484000086784363\n",
      "Epoch 21, CIFAR-10 Batch 5:  Loss = 0.015526168048381805 Validation Accuracy = 0.6656000018119812\n",
      "Epoch 22, CIFAR-10 Batch 1:  Loss = 0.0355575755238533 Validation Accuracy = 0.635200023651123\n",
      "Epoch 22, CIFAR-10 Batch 2:  Loss = 0.029144231230020523 Validation Accuracy = 0.6248000264167786\n",
      "Epoch 22, CIFAR-10 Batch 3:  Loss = 0.02848290279507637 Validation Accuracy = 0.647599995136261\n",
      "Epoch 22, CIFAR-10 Batch 4:  Loss = 0.038565777242183685 Validation Accuracy = 0.647599995136261\n",
      "Epoch 22, CIFAR-10 Batch 5:  Loss = 0.019942639395594597 Validation Accuracy = 0.6517999768257141\n",
      "Epoch 23, CIFAR-10 Batch 1:  Loss = 0.020593881607055664 Validation Accuracy = 0.6460000276565552\n",
      "Epoch 23, CIFAR-10 Batch 2:  Loss = 0.021641746163368225 Validation Accuracy = 0.6412000060081482\n",
      "Epoch 23, CIFAR-10 Batch 3:  Loss = 0.04062484949827194 Validation Accuracy = 0.6439999938011169\n",
      "Epoch 23, CIFAR-10 Batch 4:  Loss = 0.023857343941926956 Validation Accuracy = 0.6579999923706055\n",
      "Epoch 23, CIFAR-10 Batch 5:  Loss = 0.02410079911351204 Validation Accuracy = 0.6549999713897705\n",
      "Epoch 24, CIFAR-10 Batch 1:  Loss = 0.033173881471157074 Validation Accuracy = 0.6388000249862671\n",
      "Epoch 24, CIFAR-10 Batch 2:  Loss = 0.0586785189807415 Validation Accuracy = 0.6222000122070312\n",
      "Epoch 24, CIFAR-10 Batch 3:  Loss = 0.03435768559575081 Validation Accuracy = 0.6302000284194946\n",
      "Epoch 24, CIFAR-10 Batch 4:  Loss = 0.05481061339378357 Validation Accuracy = 0.6478000283241272\n",
      "Epoch 24, CIFAR-10 Batch 5:  Loss = 0.031182128936052322 Validation Accuracy = 0.6402000188827515\n",
      "Epoch 25, CIFAR-10 Batch 1:  Loss = 0.063383087515831 Validation Accuracy = 0.621999979019165\n",
      "Epoch 25, CIFAR-10 Batch 2:  Loss = 0.021328309550881386 Validation Accuracy = 0.6226000189781189\n",
      "Epoch 25, CIFAR-10 Batch 3:  Loss = 0.012134646996855736 Validation Accuracy = 0.6571999788284302\n",
      "Epoch 25, CIFAR-10 Batch 4:  Loss = 0.05213271826505661 Validation Accuracy = 0.6448000073432922\n",
      "Epoch 25, CIFAR-10 Batch 5:  Loss = 0.03206722438335419 Validation Accuracy = 0.6431999802589417\n"
     ]
    }
   ],
   "source": [
    "\"\"\"\n",
    "DON'T MODIFY ANYTHING IN THIS CELL\n",
    "\"\"\"\n",
    "save_model_path = './image_classification'\n",
    "\n",
    "print('Training...')\n",
    "with tf.Session() as sess:\n",
    "    # Initializing the variables\n",
    "    sess.run(tf.global_variables_initializer())\n",
    "    \n",
    "    # Training cycle\n",
    "    for epoch in range(epochs):\n",
    "        # Loop over all batches\n",
    "        n_batches = 5\n",
    "        for batch_i in range(1, n_batches + 1):\n",
    "            for batch_features, batch_labels in helper.load_preprocess_training_batch(batch_i, batch_size):\n",
    "                train_neural_network(sess, optimizer, keep_probability, batch_features, batch_labels)\n",
    "            print('Epoch {:>2}, CIFAR-10 Batch {}:  '.format(epoch + 1, batch_i), end='')\n",
    "            print_stats(sess, batch_features, batch_labels, cost, accuracy)\n",
    "            \n",
    "    # Save Model\n",
    "    saver = tf.train.Saver()\n",
    "    save_path = saver.save(sess, save_model_path)"
   ]
  },
  {
   "cell_type": "markdown",
   "metadata": {},
   "source": [
    "# Checkpoint\n",
    "The model has been saved to disk.\n",
    "## Test Model\n",
    "Test your model against the test dataset.  This will be your final accuracy. You should have an accuracy greater than 50%. If you don't, keep tweaking the model architecture and parameters."
   ]
  },
  {
   "cell_type": "code",
   "execution_count": 20,
   "metadata": {},
   "outputs": [
    {
     "name": "stdout",
     "output_type": "stream",
     "text": [
      "INFO:tensorflow:Restoring parameters from ./image_classification\n",
      "Testing Accuracy: 0.637890625\n",
      "\n"
     ]
    },
    {
     "data": {
      "image/png": "[encoded data removed]",
      "text/plain": [
       "<matplotlib.figure.Figure at 0x7fef26c2e240>"
      ]
     },
     "metadata": {
      "image/png": {
       "height": 319,
       "width": 355
      }
     },
     "output_type": "display_data"
    }
   ],
   "source": [
    "\"\"\"\n",
    "DON'T MODIFY ANYTHING IN THIS CELL\n",
    "\"\"\"\n",
    "%matplotlib inline\n",
    "%config InlineBackend.figure_format = 'retina'\n",
    "\n",
    "import tensorflow as tf\n",
    "import pickle\n",
    "import helper\n",
    "import random\n",
    "\n",
    "# Set batch size if not already set\n",
    "try:\n",
    "    if batch_size:\n",
    "        pass\n",
    "except NameError:\n",
    "    batch_size = 64\n",
    "\n",
    "save_model_path = './image_classification'\n",
    "n_samples = 4\n",
    "top_n_predictions = 3\n",
    "\n",
    "def test_model():\n",
    "    \"\"\"\n",
    "    Test the saved model against the test dataset\n",
    "    \"\"\"\n",
    "\n",
    "    test_features, test_labels = pickle.load(open('preprocess_test.p', mode='rb'))\n",
    "    loaded_graph = tf.Graph()\n",
    "\n",
    "    with tf.Session(graph=loaded_graph) as sess:\n",
    "        # Load model\n",
    "        loader = tf.train.import_meta_graph(save_model_path + '.meta')\n",
    "        loader.restore(sess, save_model_path)\n",
    "\n",
    "        # Get Tensors from loaded model\n",
    "        loaded_x = loaded_graph.get_tensor_by_name('x:0')\n",
    "        loaded_y = loaded_graph.get_tensor_by_name('y:0')\n",
    "        loaded_keep_prob = loaded_graph.get_tensor_by_name('keep_prob:0')\n",
    "        loaded_logits = loaded_graph.get_tensor_by_name('logits:0')\n",
    "        loaded_acc = loaded_graph.get_tensor_by_name('accuracy:0')\n",
    "        \n",
    "        # Get accuracy in batches for memory limitations\n",
    "        test_batch_acc_total = 0\n",
    "        test_batch_count = 0\n",
    "        \n",
    "        for test_feature_batch, test_label_batch in helper.batch_features_labels(test_features, test_labels, batch_size):\n",
    "            test_batch_acc_total += sess.run(\n",
    "                loaded_acc,\n",
    "                feed_dict={loaded_x: test_feature_batch, loaded_y: test_label_batch, loaded_keep_prob: 1.0})\n",
    "            test_batch_count += 1\n",
    "\n",
    "        print('Testing Accuracy: {}\\n'.format(test_batch_acc_total/test_batch_count))\n",
    "\n",
    "        # Print Random Samples\n",
    "        random_test_features, random_test_labels = tuple(zip(*random.sample(list(zip(test_features, test_labels)), n_samples)))\n",
    "        random_test_predictions = sess.run(\n",
    "            tf.nn.top_k(tf.nn.softmax(loaded_logits), top_n_predictions),\n",
    "            feed_dict={loaded_x: random_test_features, loaded_y: random_test_labels, loaded_keep_prob: 1.0})\n",
    "        helper.display_image_predictions(random_test_features, random_test_labels, random_test_predictions)\n",
    "\n",
    "\n",
    "test_model()"
   ]
  },
  {
   "cell_type": "markdown",
   "metadata": {},
   "source": [
    "## Why 50-80% Accuracy?\n",
    "You might be wondering why you can't get an accuracy any higher. First things first, 50% isn't bad for a simple CNN.  Pure guessing would get you 10% accuracy. However, you might notice people are getting scores [well above 80%](http://rodrigob.github.io/are_we_there_yet/build/classification_datasets_results.html#43494641522d3130).  That's because we haven't taught you all there is to know about neural networks. We still need to cover a few more techniques.\n",
    "## Submitting This Project\n",
    "When submitting this project, make sure to run all the cells before saving the notebook.  Save the notebook file as \"dlnd_image_classification.ipynb\" and save it as a HTML file under \"File\" -> \"Download as\".  Include the \"helper.py\" and \"problem_unittests.py\" files in your submission."
   ]
  }
 ],
 "metadata": {
  "kernelspec": {
   "display_name": "Python 3",
   "language": "python",
   "name": "python3"
  },
  "language_info": {
   "codemirror_mode": {
    "name": "ipython",
    "version": 3
   },
   "file_extension": ".py",
   "mimetype": "text/x-python",
   "name": "python",
   "nbconvert_exporter": "python",
   "pygments_lexer": "ipython3",
   "version": "3.6.4"
  }
 },
 "nbformat": 4,
 "nbformat_minor": 1
}
